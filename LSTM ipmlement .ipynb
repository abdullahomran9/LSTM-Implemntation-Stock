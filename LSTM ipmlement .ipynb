{
 "cells": [
  {
   "cell_type": "code",
   "execution_count": 1,
   "metadata": {},
   "outputs": [],
   "source": [
    "%matplotlib inline\n",
    "import matplotlib.pyplot as plt\n",
    "import tensorflow as tf\n",
    "import numpy as np\n",
    "import pandas as pd\n",
    "import os\n",
    "from sklearn.preprocessing import MinMaxScaler\n",
    "import pandas as pd\n",
    "from pandas import read_csv\n",
    "from pandas import DataFrame\n",
    "from pandas import concat\n",
    "# from tf.keras.models import Sequential  # This does not work!\n",
    "from tensorflow.python.keras.models import Sequential\n",
    "from tensorflow.python.keras.layers import Input, Dense, GRU, Embedding ,LSTM , merge ,Concatenate\n",
    "from tensorflow.python.keras.optimizers import RMSprop\n",
    "from tensorflow.python.keras.callbacks import EarlyStopping, ModelCheckpoint, TensorBoard, ReduceLROnPlateau"
   ]
  },
  {
   "cell_type": "code",
   "execution_count": 2,
   "metadata": {},
   "outputs": [
    {
     "data": {
      "text/html": [
       "<div>\n",
       "<style scoped>\n",
       "    .dataframe tbody tr th:only-of-type {\n",
       "        vertical-align: middle;\n",
       "    }\n",
       "\n",
       "    .dataframe tbody tr th {\n",
       "        vertical-align: top;\n",
       "    }\n",
       "\n",
       "    .dataframe thead th {\n",
       "        text-align: right;\n",
       "    }\n",
       "</style>\n",
       "<table border=\"1\" class=\"dataframe\">\n",
       "  <thead>\n",
       "    <tr style=\"text-align: right;\">\n",
       "      <th></th>\n",
       "      <th>Open</th>\n",
       "      <th>High</th>\n",
       "      <th>Low</th>\n",
       "      <th>T-Open</th>\n",
       "      <th>volumeTraded</th>\n",
       "      <th>TurnOver</th>\n",
       "    </tr>\n",
       "    <tr>\n",
       "      <th>Date</th>\n",
       "      <th></th>\n",
       "      <th></th>\n",
       "      <th></th>\n",
       "      <th></th>\n",
       "      <th></th>\n",
       "      <th></th>\n",
       "    </tr>\n",
       "  </thead>\n",
       "  <tbody>\n",
       "    <tr>\n",
       "      <th>2012-04-25</th>\n",
       "      <td>69.50</td>\n",
       "      <td>70.00</td>\n",
       "      <td>68.75</td>\n",
       "      <td>7512.26</td>\n",
       "      <td>400607.0</td>\n",
       "      <td>2.779140e+07</td>\n",
       "    </tr>\n",
       "    <tr>\n",
       "      <th>2012-04-28</th>\n",
       "      <td>70.00</td>\n",
       "      <td>70.50</td>\n",
       "      <td>69.00</td>\n",
       "      <td>7541.50</td>\n",
       "      <td>365639.0</td>\n",
       "      <td>2.548842e+07</td>\n",
       "    </tr>\n",
       "    <tr>\n",
       "      <th>2012-04-29</th>\n",
       "      <td>70.25</td>\n",
       "      <td>73.25</td>\n",
       "      <td>69.25</td>\n",
       "      <td>7607.59</td>\n",
       "      <td>1640278.0</td>\n",
       "      <td>1.170526e+08</td>\n",
       "    </tr>\n",
       "    <tr>\n",
       "      <th>2012-04-30</th>\n",
       "      <td>72.25</td>\n",
       "      <td>72.25</td>\n",
       "      <td>69.50</td>\n",
       "      <td>7555.77</td>\n",
       "      <td>789987.0</td>\n",
       "      <td>5.590747e+07</td>\n",
       "    </tr>\n",
       "    <tr>\n",
       "      <th>2012-05-01</th>\n",
       "      <td>69.50</td>\n",
       "      <td>70.25</td>\n",
       "      <td>69.00</td>\n",
       "      <td>7558.47</td>\n",
       "      <td>313050.0</td>\n",
       "      <td>2.180835e+07</td>\n",
       "    </tr>\n",
       "  </tbody>\n",
       "</table>\n",
       "</div>"
      ],
      "text/plain": [
       "             Open   High    Low   T-Open  volumeTraded      TurnOver\n",
       "Date                                                                \n",
       "2012-04-25  69.50  70.00  68.75  7512.26      400607.0  2.779140e+07\n",
       "2012-04-28  70.00  70.50  69.00  7541.50      365639.0  2.548842e+07\n",
       "2012-04-29  70.25  73.25  69.25  7607.59     1640278.0  1.170526e+08\n",
       "2012-04-30  72.25  72.25  69.50  7555.77      789987.0  5.590747e+07\n",
       "2012-05-01  69.50  70.25  69.00  7558.47      313050.0  2.180835e+07"
      ]
     },
     "execution_count": 2,
     "metadata": {},
     "output_type": "execute_result"
    }
   ],
   "source": [
    "dateparse = lambda dates: pd.datetime.strptime(dates, '%Y-%m-%d')\n",
    "data = pd.read_csv(r\"C:\\Users\\abdullah\\Documents\\Python notebook\\tadawul\\2030withtasi&volume.csv\", parse_dates=['Date'],\n",
    "                   index_col='Date',date_parser=dateparse)\n",
    "data['T-Open'] = [x.replace(',', '') for x in data['T-Open']]\n",
    "data['volumeTraded'] = [x.replace(',', '') for x in data['volumeTraded']]\n",
    "data['TurnOver'] = [x.replace(',', '') for x in data['TurnOver']]\n",
    "data['T-Open']=data['T-Open'].astype(float)\n",
    "data['TurnOver']=data['TurnOver'].astype(float)\n",
    "data['volumeTraded']=data['volumeTraded'].astype(float)\n",
    "data.head()\n"
   ]
  },
  {
   "cell_type": "code",
   "execution_count": 3,
   "metadata": {},
   "outputs": [
    {
     "data": {
      "text/plain": [
       "Open            float64\n",
       "High            float64\n",
       "Low             float64\n",
       "T-Open          float64\n",
       "volumeTraded    float64\n",
       "TurnOver        float64\n",
       "dtype: object"
      ]
     },
     "execution_count": 3,
     "metadata": {},
     "output_type": "execute_result"
    }
   ],
   "source": [
    "data['TurnOver']=data['TurnOver'].astype(float)\n",
    "data['volumeTraded']=data['volumeTraded'].astype(float)\n",
    "data.dtypes"
   ]
  },
  {
   "cell_type": "code",
   "execution_count": 4,
   "metadata": {},
   "outputs": [
    {
     "name": "stdout",
     "output_type": "stream",
     "text": [
      "<class 'numpy.ndarray'>\n",
      "Shape: (1680, 6)\n"
     ]
    }
   ],
   "source": [
    "x_data = data.values\n",
    "print(type(x_data))\n",
    "print(\"Shape:\", x_data.shape)"
   ]
  },
  {
   "cell_type": "code",
   "execution_count": 6,
   "metadata": {},
   "outputs": [],
   "source": [
    "df_targets = data[['Open']].shift(-1)"
   ]
  },
  {
   "cell_type": "code",
   "execution_count": 9,
   "metadata": {},
   "outputs": [
    {
     "name": "stdout",
     "output_type": "stream",
     "text": [
      "<class 'numpy.ndarray'>\n",
      "Shape: (1679, 6)\n"
     ]
    }
   ],
   "source": [
    "x_data = data.values[0:-1]\n",
    "print(type(x_data))\n",
    "print(\"Shape:\", x_data.shape)"
   ]
  },
  {
   "cell_type": "code",
   "execution_count": 11,
   "metadata": {},
   "outputs": [
    {
     "name": "stdout",
     "output_type": "stream",
     "text": [
      "<class 'numpy.ndarray'>\n",
      "Shape: (1679, 1)\n"
     ]
    }
   ],
   "source": [
    "y_data = df_targets.values[:-1]\n",
    "\n",
    "print(type(y_data))\n",
    "print(\"Shape:\", y_data.shape)"
   ]
  },
  {
   "cell_type": "code",
   "execution_count": 13,
   "metadata": {},
   "outputs": [
    {
     "name": "stdout",
     "output_type": "stream",
     "text": [
      "1511\n",
      "168\n"
     ]
    }
   ],
   "source": [
    "num_data = len(x_data)\n",
    "num_data\n",
    "train_split = 0.9\n",
    "num_train = int(train_split * num_data)\n",
    "print(num_train)\n",
    "num_test = num_data - num_train\n",
    "print(num_test)"
   ]
  },
  {
   "cell_type": "code",
   "execution_count": 14,
   "metadata": {},
   "outputs": [
    {
     "data": {
      "text/plain": [
       "1679"
      ]
     },
     "execution_count": 14,
     "metadata": {},
     "output_type": "execute_result"
    }
   ],
   "source": [
    "x_train = x_data[0:num_train]\n",
    "x_test = x_data[num_train:]\n",
    "len(x_train) + len(x_test)\n"
   ]
  },
  {
   "cell_type": "code",
   "execution_count": 15,
   "metadata": {},
   "outputs": [
    {
     "data": {
      "text/plain": [
       "1679"
      ]
     },
     "execution_count": 15,
     "metadata": {},
     "output_type": "execute_result"
    }
   ],
   "source": [
    "y_train = y_data[0:num_train]\n",
    "y_test = y_data[num_train:]\n",
    "len(y_train) + len(y_test)"
   ]
  },
  {
   "cell_type": "code",
   "execution_count": 16,
   "metadata": {},
   "outputs": [
    {
     "data": {
      "text/plain": [
       "6"
      ]
     },
     "execution_count": 16,
     "metadata": {},
     "output_type": "execute_result"
    }
   ],
   "source": [
    "num_x_signals = x_data.shape[1]\n",
    "num_x_signals"
   ]
  },
  {
   "cell_type": "code",
   "execution_count": 18,
   "metadata": {},
   "outputs": [
    {
     "data": {
      "text/plain": [
       "1"
      ]
     },
     "execution_count": 18,
     "metadata": {},
     "output_type": "execute_result"
    }
   ],
   "source": [
    "num_y_signals = y_data.shape[1]\n",
    "num_y_signals"
   ]
  },
  {
   "cell_type": "code",
   "execution_count": 19,
   "metadata": {},
   "outputs": [
    {
     "name": "stdout",
     "output_type": "stream",
     "text": [
      "Min: 0.0\n",
      "Max: 1.0\n"
     ]
    }
   ],
   "source": [
    "x_scaler = MinMaxScaler()\n",
    "x_train_scaled = x_scaler.fit_transform(x_train)\n",
    "print(\"Min:\", np.min(x_train_scaled))\n",
    "print(\"Max:\", np.max(x_train_scaled))"
   ]
  },
  {
   "cell_type": "code",
   "execution_count": 20,
   "metadata": {},
   "outputs": [
    {
     "name": "stdout",
     "output_type": "stream",
     "text": [
      "(1511, 6)\n",
      "(1511, 1)\n"
     ]
    }
   ],
   "source": [
    "x_test_scaled = x_scaler.transform(x_test)\n",
    "y_scaler = MinMaxScaler()\n",
    "y_train_scaled = y_scaler.fit_transform(y_train)\n",
    "y_test_scaled = y_scaler.transform(y_test)\n",
    "print(x_train_scaled.shape)\n",
    "print(y_train_scaled.shape)"
   ]
  },
  {
   "cell_type": "code",
   "execution_count": 21,
   "metadata": {},
   "outputs": [],
   "source": [
    "def batch_generator(batch_size, sequence_length):\n",
    "    \"\"\"\n",
    "    Generator function for creating random batches of training-data.\n",
    "    \"\"\"\n",
    "\n",
    "    # Infinite loop.\n",
    "    while True:\n",
    "        # Allocate a new array for the batch of input-signals.\n",
    "        x_shape = (batch_size, sequence_length, num_x_signals)\n",
    "        x_batch = np.zeros(shape=x_shape, dtype=np.float16)\n",
    "\n",
    "        # Allocate a new array for the batch of output-signals.\n",
    "        y_shape = (batch_size, sequence_length, num_y_signals)\n",
    "        y_batch = np.zeros(shape=y_shape, dtype=np.float16)\n",
    "\n",
    "        # Fill the batch with random sequences of data.\n",
    "        for i in range(batch_size):\n",
    "            # Get a random start-index.\n",
    "            # This points somewhere into the training-data.\n",
    "            idx = np.random.randint(num_train - sequence_length)\n",
    "            \n",
    "            # Copy the sequences of data starting at this index.\n",
    "            x_batch[i] = x_train_scaled[idx:idx+sequence_length]\n",
    "            y_batch[i] = y_train_scaled[idx:idx+sequence_length]\n",
    "        \n",
    "        yield (x_batch, y_batch)"
   ]
  },
  {
   "cell_type": "code",
   "execution_count": 150,
   "metadata": {},
   "outputs": [
    {
     "data": {
      "text/plain": [
       "50"
      ]
     },
     "execution_count": 150,
     "metadata": {},
     "output_type": "execute_result"
    }
   ],
   "source": [
    "batch_size = 10\n",
    "sequence_length = 50\n",
    "sequence_length"
   ]
  },
  {
   "cell_type": "code",
   "execution_count": 151,
   "metadata": {},
   "outputs": [],
   "source": [
    "generator = batch_generator(batch_size=batch_size,\n",
    "                            sequence_length=sequence_length)"
   ]
  },
  {
   "cell_type": "code",
   "execution_count": 152,
   "metadata": {},
   "outputs": [],
   "source": [
    "x_batch, y_batch = next(generator)"
   ]
  },
  {
   "cell_type": "code",
   "execution_count": 153,
   "metadata": {},
   "outputs": [
    {
     "name": "stdout",
     "output_type": "stream",
     "text": [
      "(10, 50, 6)\n",
      "(10, 50, 1)\n"
     ]
    }
   ],
   "source": [
    "print(x_batch.shape)\n",
    "print(y_batch.shape)"
   ]
  },
  {
   "cell_type": "code",
   "execution_count": 154,
   "metadata": {},
   "outputs": [
    {
     "data": {
      "text/plain": [
       "[<matplotlib.lines.Line2D at 0x1a4fba0f1d0>]"
      ]
     },
     "execution_count": 154,
     "metadata": {},
     "output_type": "execute_result"
    },
    {
     "data": {
      "image/png": "[encoded data removed]",
      "text/plain": [
       "<Figure size 432x288 with 1 Axes>"
      ]
     },
     "metadata": {
      "needs_background": "light"
     },
     "output_type": "display_data"
    }
   ],
   "source": [
    "batch = 0   # First sequence in the batch.\n",
    "signal = 0  # First signal from the 20 input-signals.\n",
    "seq = x_batch[batch, :, signal]\n",
    "plt.plot(seq)\n",
    "seq = y_batch[batch, :, signal]\n",
    "plt.plot(seq)"
   ]
  },
  {
   "cell_type": "code",
   "execution_count": 155,
   "metadata": {},
   "outputs": [],
   "source": [
    "validation_data = (np.expand_dims(x_test_scaled, axis=0),\n",
    "                   np.expand_dims(y_test_scaled, axis=0))"
   ]
  },
  {
   "cell_type": "code",
   "execution_count": 157,
   "metadata": {},
   "outputs": [],
   "source": [
    "model = Sequential()\n",
    "model.add(LSTM(units=64,\n",
    "              return_sequences=True,\n",
    "              input_shape=(None, num_x_signals,)))\n",
    "model.add(Dense(num_y_signals, activation='linear'))"
   ]
  },
  {
   "cell_type": "code",
   "execution_count": 158,
   "metadata": {},
   "outputs": [],
   "source": [
    "if False:\n",
    "    from tensorflow.python.keras.initializers import RandomUniform\n",
    "\n",
    "    # Maybe use lower init-ranges.\n",
    "    init = RandomUniform(minval=-0.005, maxval=0.005)\n",
    "\n",
    "    model.add(Dense(num_y_signals,\n",
    "                    activation='linear',\n",
    "                    kernel_initializer=init))"
   ]
  },
  {
   "cell_type": "code",
   "execution_count": 159,
   "metadata": {},
   "outputs": [],
   "source": [
    "warmup_steps = 5"
   ]
  },
  {
   "cell_type": "code",
   "execution_count": 160,
   "metadata": {},
   "outputs": [],
   "source": [
    "def loss_mse_warmup(y_true, y_pred):\n",
    "    \"\"\"\n",
    "    Calculate the Mean Squared Error between y_true and y_pred,\n",
    "    but ignore the beginning \"warmup\" part of the sequences.\n",
    "    \n",
    "    y_true is the desired output.\n",
    "    y_pred is the model's output.\n",
    "    \"\"\"\n",
    "\n",
    "    # The shape of both input tensors are:\n",
    "    # [batch_size, sequence_length, num_y_signals].\n",
    "\n",
    "    # Ignore the \"warmup\" parts of the sequences\n",
    "    # by taking slices of the tensors.\n",
    "    y_true_slice = y_true[:, warmup_steps:, :]\n",
    "    y_pred_slice = y_pred[:, warmup_steps:, :]\n",
    "\n",
    "    # These sliced tensors both have this shape:\n",
    "    # [batch_size, sequence_length - warmup_steps, num_y_signals]\n",
    "\n",
    "    # Calculate the MSE loss for each value in these tensors.\n",
    "    # This outputs a 3-rank tensor of the same shape.\n",
    "    loss = tf.losses.mean_squared_error(labels=y_true_slice,\n",
    "                                        predictions=y_pred_slice)\n",
    "\n",
    "    # Keras may reduce this across the first axis (the batch)\n",
    "    # but the semantics are unclear, so to be sure we use\n",
    "    # the loss across the entire tensor, we reduce it to a\n",
    "    # single scalar with the mean function.\n",
    "    loss_mean = tf.reduce_mean(loss)\n",
    "\n",
    "    return loss_mean"
   ]
  },
  {
   "cell_type": "code",
   "execution_count": 161,
   "metadata": {},
   "outputs": [],
   "source": [
    "optimizer = RMSprop(lr=0.0001)"
   ]
  },
  {
   "cell_type": "code",
   "execution_count": 162,
   "metadata": {},
   "outputs": [
    {
     "name": "stdout",
     "output_type": "stream",
     "text": [
      "_________________________________________________________________\n",
      "Layer (type)                 Output Shape              Param #   \n",
      "=================================================================\n",
      "lstm_6 (LSTM)                (None, None, 64)          18176     \n",
      "_________________________________________________________________\n",
      "dense_6 (Dense)              (None, None, 1)           65        \n",
      "=================================================================\n",
      "Total params: 18,241\n",
      "Trainable params: 18,241\n",
      "Non-trainable params: 0\n",
      "_________________________________________________________________\n"
     ]
    }
   ],
   "source": [
    "model.compile(loss=loss_mse_warmup, optimizer=optimizer)\n",
    "model.summary()"
   ]
  },
  {
   "cell_type": "code",
   "execution_count": 163,
   "metadata": {},
   "outputs": [],
   "source": [
    "path_checkpoint = '23_checkpoint.keras'\n",
    "callback_checkpoint = ModelCheckpoint(filepath=path_checkpoint,\n",
    "                                      monitor='val_loss',\n",
    "                                      verbose=1,\n",
    "                                      save_weights_only=True,\n",
    "                                      save_best_only=True)\n",
    "callback_early_stopping = EarlyStopping(monitor='val_loss',\n",
    "                                        patience=5, verbose=1)\n",
    "\n",
    "callback_tensorboard = TensorBoard(log_dir='./23_logs/',\n",
    "                                   histogram_freq=0,\n",
    "                                   write_graph=False)"
   ]
  },
  {
   "cell_type": "code",
   "execution_count": 164,
   "metadata": {},
   "outputs": [],
   "source": [
    "callback_reduce_lr = ReduceLROnPlateau(monitor='val_loss',\n",
    "                                       factor=0.01,\n",
    "                                       min_lr=0.0001,\n",
    "                                       patience=0,\n",
    "                                       verbose=1)"
   ]
  },
  {
   "cell_type": "code",
   "execution_count": 165,
   "metadata": {},
   "outputs": [],
   "source": [
    "callbacks = [callback_early_stopping,\n",
    "             callback_checkpoint,\n",
    "             callback_tensorboard,\n",
    "             callback_reduce_lr]"
   ]
  },
  {
   "cell_type": "code",
   "execution_count": 97,
   "metadata": {},
   "outputs": [
    {
     "name": "stdout",
     "output_type": "stream",
     "text": [
      "Epoch 1/20\n",
      " 98/100 [============================>.] - ETA: 0s - loss: 0.0570\n",
      "Epoch 00001: val_loss improved from inf to 0.04208, saving model to 23_checkpoint.keras\n",
      "100/100 [==============================] - 3s 25ms/step - loss: 0.0568 - val_loss: 0.0421\n",
      "Epoch 2/20\n",
      " 97/100 [============================>.] - ETA: 0s - loss: 0.0457\n",
      "Epoch 00002: val_loss improved from 0.04208 to 0.03104, saving model to 23_checkpoint.keras\n",
      "100/100 [==============================] - 2s 17ms/step - loss: 0.0457 - val_loss: 0.0310\n",
      "Epoch 3/20\n",
      " 99/100 [============================>.] - ETA: 0s - loss: 0.0310\n",
      "Epoch 00003: val_loss improved from 0.03104 to 0.00182, saving model to 23_checkpoint.keras\n",
      "100/100 [==============================] - 2s 19ms/step - loss: 0.0309 - val_loss: 0.0018\n",
      "Epoch 4/20\n",
      " 97/100 [============================>.] - ETA: 0s - loss: 0.0155\n",
      "Epoch 00004: val_loss did not improve from 0.00182\n",
      "100/100 [==============================] - 2s 17ms/step - loss: 0.0153 - val_loss: 0.0229\n",
      "Epoch 5/20\n",
      " 97/100 [============================>.] - ETA: 0s - loss: 0.0097\n",
      "Epoch 00005: val_loss did not improve from 0.00182\n",
      "100/100 [==============================] - 2s 18ms/step - loss: 0.0097 - val_loss: 0.0257\n",
      "Epoch 6/20\n",
      " 99/100 [============================>.] - ETA: 0s - loss: 0.0069\n",
      "Epoch 00006: val_loss did not improve from 0.00182\n",
      "100/100 [==============================] - 2s 18ms/step - loss: 0.0069 - val_loss: 0.0142\n",
      "Epoch 7/20\n",
      " 97/100 [============================>.] - ETA: 0s - loss: 0.0048\n",
      "Epoch 00007: val_loss did not improve from 0.00182\n",
      "100/100 [==============================] - 2s 18ms/step - loss: 0.0048 - val_loss: 0.0042\n",
      "Epoch 8/20\n",
      " 97/100 [============================>.] - ETA: 0s - loss: 0.0033\n",
      "Epoch 00008: val_loss improved from 0.00182 to 0.00101, saving model to 23_checkpoint.keras\n",
      "100/100 [==============================] - 2s 17ms/step - loss: 0.0033 - val_loss: 0.0010\n",
      "Epoch 9/20\n",
      " 98/100 [============================>.] - ETA: 0s - loss: 0.0022\n",
      "Epoch 00009: val_loss improved from 0.00101 to 0.00095, saving model to 23_checkpoint.keras\n",
      "100/100 [==============================] - 2s 19ms/step - loss: 0.0022 - val_loss: 9.4957e-04\n",
      "Epoch 10/20\n",
      " 98/100 [============================>.] - ETA: 0s - loss: 0.0018\n",
      "Epoch 00010: val_loss improved from 0.00095 to 0.00086, saving model to 23_checkpoint.keras\n",
      "100/100 [==============================] - 2s 18ms/step - loss: 0.0017 - val_loss: 8.5677e-04\n",
      "Epoch 11/20\n",
      " 97/100 [============================>.] - ETA: 0s - loss: 0.0015\n",
      "Epoch 00011: val_loss improved from 0.00086 to 0.00074, saving model to 23_checkpoint.keras\n",
      "100/100 [==============================] - 2s 18ms/step - loss: 0.0015 - val_loss: 7.3733e-04\n",
      "Epoch 12/20\n",
      " 99/100 [============================>.] - ETA: 0s - loss: 0.0013\n",
      "Epoch 00012: val_loss improved from 0.00074 to 0.00063, saving model to 23_checkpoint.keras\n",
      "100/100 [==============================] - 2s 18ms/step - loss: 0.0013 - val_loss: 6.3351e-04\n",
      "Epoch 13/20\n",
      " 99/100 [============================>.] - ETA: 0s - loss: 0.0011\n",
      "Epoch 00013: val_loss improved from 0.00063 to 0.00057, saving model to 23_checkpoint.keras\n",
      "100/100 [==============================] - 2s 17ms/step - loss: 0.0011 - val_loss: 5.6506e-04\n",
      "Epoch 14/20\n",
      " 99/100 [============================>.] - ETA: 0s - loss: 0.0010- ETA: 0s - loss: 0\n",
      "Epoch 00014: val_loss improved from 0.00057 to 0.00051, saving model to 23_checkpoint.keras\n",
      "100/100 [==============================] - 2s 18ms/step - loss: 0.0010 - val_loss: 5.0610e-04\n",
      "Epoch 15/20\n",
      " 99/100 [============================>.] - ETA: 0s - loss: 8.8605e-04\n",
      "Epoch 00015: val_loss did not improve from 0.00051\n",
      "100/100 [==============================] - 2s 18ms/step - loss: 8.8721e-04 - val_loss: 5.0868e-04\n",
      "Epoch 16/20\n",
      " 98/100 [============================>.] - ETA: 0s - loss: 8.1324e-04\n",
      "Epoch 00016: val_loss improved from 0.00051 to 0.00043, saving model to 23_checkpoint.keras\n",
      "100/100 [==============================] - 2s 18ms/step - loss: 8.1300e-04 - val_loss: 4.3112e-04\n",
      "Epoch 17/20\n",
      " 98/100 [============================>.] - ETA: 0s - loss: 7.7457e-04\n",
      "Epoch 00017: val_loss improved from 0.00043 to 0.00041, saving model to 23_checkpoint.keras\n",
      "100/100 [==============================] - 2s 19ms/step - loss: 7.7511e-04 - val_loss: 4.1004e-04\n",
      "Epoch 18/20\n",
      " 96/100 [===========================>..] - ETA: 0s - loss: 7.3229e-04\n",
      "Epoch 00018: val_loss did not improve from 0.00041\n",
      "100/100 [==============================] - 2s 17ms/step - loss: 7.3207e-04 - val_loss: 4.4963e-04\n",
      "Epoch 19/20\n",
      " 97/100 [============================>.] - ETA: 0s - loss: 6.7549e-04- \n",
      "Epoch 00019: val_loss improved from 0.00041 to 0.00035, saving model to 23_checkpoint.keras\n",
      "100/100 [==============================] - 2s 17ms/step - loss: 6.7461e-04 - val_loss: 3.5291e-04\n",
      "Epoch 20/20\n",
      " 99/100 [============================>.] - ETA: 0s - loss: 6.4902e-04\n",
      "Epoch 00020: val_loss did not improve from 0.00035\n",
      "100/100 [==============================] - 2s 18ms/step - loss: 6.4947e-04 - val_loss: 3.9120e-04\n",
      "Wall time: 37.2 s\n"
     ]
    },
    {
     "data": {
      "text/plain": [
       "<tensorflow.python.keras.callbacks.History at 0x1a4f3f1e908>"
      ]
     },
     "execution_count": 97,
     "metadata": {},
     "output_type": "execute_result"
    }
   ],
   "source": [
    "%%time\n",
    "model.fit_generator(generator=generator,\n",
    "                    epochs=20,\n",
    "                    steps_per_epoch=100,\n",
    "                    validation_data=validation_data,\n",
    "                    callbacks=callbacks)\n",
    "\n"
   ]
  },
  {
   "cell_type": "code",
   "execution_count": 166,
   "metadata": {},
   "outputs": [
    {
     "name": "stdout",
     "output_type": "stream",
     "text": [
      "Epoch 1/20\n",
      " 99/100 [============================>.] - ETA: 0s - loss: 0.0991\n",
      "Epoch 00001: val_loss improved from inf to 0.00189, saving model to 23_checkpoint.keras\n",
      "100/100 [==============================] - 3s 31ms/step - loss: 0.0982 - val_loss: 0.0019\n",
      "Epoch 2/20\n",
      " 98/100 [============================>.] - ETA: 0s - loss: 0.0033\n",
      "Epoch 00002: val_loss improved from 0.00189 to 0.00052, saving model to 23_checkpoint.keras\n",
      "100/100 [==============================] - 2s 21ms/step - loss: 0.0033 - val_loss: 5.2393e-04\n",
      "Epoch 3/20\n",
      " 99/100 [============================>.] - ETA: 0s - loss: 0.0011\n",
      "Epoch 00003: val_loss improved from 0.00052 to 0.00049, saving model to 23_checkpoint.keras\n",
      "100/100 [==============================] - 2s 21ms/step - loss: 0.0011 - val_loss: 4.8511e-04\n",
      "Epoch 4/20\n",
      " 98/100 [============================>.] - ETA: 0s - loss: 7.6047e-04\n",
      "Epoch 00004: val_loss improved from 0.00049 to 0.00034, saving model to 23_checkpoint.keras\n",
      "100/100 [==============================] - 2s 21ms/step - loss: 7.5561e-04 - val_loss: 3.3938e-04\n",
      "Epoch 5/20\n",
      " 99/100 [============================>.] - ETA: 0s - loss: 6.4846e-04\n",
      "Epoch 00005: val_loss did not improve from 0.00034\n",
      "100/100 [==============================] - 2s 22ms/step - loss: 6.5162e-04 - val_loss: 3.6106e-04\n",
      "Epoch 6/20\n",
      " 99/100 [============================>.] - ETA: 0s - loss: 5.8650e-04\n",
      "Epoch 00006: val_loss improved from 0.00034 to 0.00028, saving model to 23_checkpoint.keras\n",
      "100/100 [==============================] - 2s 22ms/step - loss: 5.8395e-04 - val_loss: 2.7517e-04\n",
      "Epoch 7/20\n",
      " 98/100 [============================>.] - ETA: 0s - loss: 5.3417e-04\n",
      "Epoch 00007: val_loss improved from 0.00028 to 0.00026, saving model to 23_checkpoint.keras\n",
      "100/100 [==============================] - 2s 22ms/step - loss: 5.3181e-04 - val_loss: 2.5914e-04\n",
      "Epoch 8/20\n",
      " 98/100 [============================>.] - ETA: 0s - loss: 5.1025e-04\n",
      "Epoch 00008: val_loss did not improve from 0.00026\n",
      "100/100 [==============================] - 2s 21ms/step - loss: 5.1411e-04 - val_loss: 2.6115e-04\n",
      "Epoch 9/20\n",
      " 99/100 [============================>.] - ETA: 0s - loss: 4.6504e-04\n",
      "Epoch 00009: val_loss improved from 0.00026 to 0.00024, saving model to 23_checkpoint.keras\n",
      "100/100 [==============================] - 2s 21ms/step - loss: 4.6288e-04 - val_loss: 2.3822e-04\n",
      "Epoch 10/20\n",
      " 98/100 [============================>.] - ETA: 0s - loss: 4.2159e-04\n",
      "Epoch 00010: val_loss improved from 0.00024 to 0.00024, saving model to 23_checkpoint.keras\n",
      "100/100 [==============================] - 2s 22ms/step - loss: 4.2243e-04 - val_loss: 2.3571e-04\n",
      "Epoch 11/20\n",
      " 97/100 [============================>.] - ETA: 0s - loss: 4.3370e-04\n",
      "Epoch 00011: val_loss improved from 0.00024 to 0.00020, saving model to 23_checkpoint.keras\n",
      "100/100 [==============================] - 2s 21ms/step - loss: 4.3112e-04 - val_loss: 2.0263e-04\n",
      "Epoch 12/20\n",
      " 98/100 [============================>.] - ETA: 0s - loss: 4.2687e-04\n",
      "Epoch 00012: val_loss improved from 0.00020 to 0.00018, saving model to 23_checkpoint.keras\n",
      "100/100 [==============================] - 2s 21ms/step - loss: 4.2723e-04 - val_loss: 1.8312e-04\n",
      "Epoch 13/20\n",
      " 99/100 [============================>.] - ETA: 0s - loss: 3.8807e-04- ETA: 0s - loss: 3\n",
      "Epoch 00013: val_loss improved from 0.00018 to 0.00017, saving model to 23_checkpoint.keras\n",
      "100/100 [==============================] - 2s 21ms/step - loss: 3.8764e-04 - val_loss: 1.7340e-04\n",
      "Epoch 14/20\n",
      " 98/100 [============================>.] - ETA: 0s - loss: 3.8545e-04\n",
      "Epoch 00014: val_loss improved from 0.00017 to 0.00017, saving model to 23_checkpoint.keras\n",
      "100/100 [==============================] - 2s 21ms/step - loss: 3.8462e-04 - val_loss: 1.6647e-04\n",
      "Epoch 15/20\n",
      " 99/100 [============================>.] - ETA: 0s - loss: 3.7852e-04- ETA: 0s - loss: 3.\n",
      "Epoch 00015: val_loss improved from 0.00017 to 0.00016, saving model to 23_checkpoint.keras\n",
      "100/100 [==============================] - 2s 22ms/step - loss: 3.7692e-04 - val_loss: 1.5934e-04\n",
      "Epoch 16/20\n",
      " 97/100 [============================>.] - ETA: 0s - loss: 3.3928e-04\n",
      "Epoch 00016: val_loss improved from 0.00016 to 0.00015, saving model to 23_checkpoint.keras\n",
      "100/100 [==============================] - 2s 21ms/step - loss: 3.3996e-04 - val_loss: 1.4919e-04\n",
      "Epoch 17/20\n",
      " 99/100 [============================>.] - ETA: 0s - loss: 3.5135e-04\n",
      "Epoch 00017: val_loss did not improve from 0.00015\n",
      "100/100 [==============================] - 2s 21ms/step - loss: 3.5150e-04 - val_loss: 1.6267e-04\n",
      "Epoch 18/20\n",
      " 97/100 [============================>.] - ETA: 0s - loss: 3.1026e-04\n",
      "Epoch 00018: val_loss improved from 0.00015 to 0.00013, saving model to 23_checkpoint.keras\n",
      "100/100 [==============================] - 2s 21ms/step - loss: 3.1086e-04 - val_loss: 1.3464e-04\n",
      "Epoch 19/20\n",
      " 98/100 [============================>.] - ETA: 0s - loss: 3.1010e-04\n",
      "Epoch 00019: val_loss improved from 0.00013 to 0.00013, saving model to 23_checkpoint.keras\n",
      "100/100 [==============================] - 2s 21ms/step - loss: 3.0922e-04 - val_loss: 1.2655e-04\n",
      "Epoch 20/20\n",
      " 98/100 [============================>.] - ETA: 0s - loss: 3.0003e-04\n",
      "Epoch 00020: val_loss improved from 0.00013 to 0.00013, saving model to 23_checkpoint.keras\n",
      "100/100 [==============================] - 2s 20ms/step - loss: 3.0021e-04 - val_loss: 1.2525e-04\n"
     ]
    },
    {
     "data": {
      "image/png": "[encoded data removed]",
      "text/plain": [
       "<Figure size 432x288 with 1 Axes>"
      ]
     },
     "metadata": {
      "needs_background": "light"
     },
     "output_type": "display_data"
    }
   ],
   "source": [
    "\n",
    "\n",
    "history=model.fit_generator(generator=generator,\n",
    "                    epochs=20,\n",
    "                    steps_per_epoch=100,\n",
    "                    validation_data=validation_data,\n",
    "                    callbacks=callbacks)\n",
    "\n",
    "pyplot.plot(history.history['loss'], label='train')\n",
    "pyplot.plot(history.history['val_loss'], label='test')\n",
    "pyplot.legend()\n",
    "pyplot.show()"
   ]
  },
  {
   "cell_type": "code",
   "execution_count": 128,
   "metadata": {},
   "outputs": [
    {
     "ename": "TypeError",
     "evalue": "'History' object is not subscriptable",
     "output_type": "error",
     "traceback": [
      "\u001b[1;31m---------------------------------------------------------------------------\u001b[0m",
      "\u001b[1;31mTypeError\u001b[0m                                 Traceback (most recent call last)",
      "\u001b[1;32m<ipython-input-128-30ad2278e42d>\u001b[0m in \u001b[0;36m<module>\u001b[1;34m\u001b[0m\n\u001b[1;32m----> 1\u001b[1;33m \u001b[0mhistory\u001b[0m\u001b[1;33m[\u001b[0m\u001b[1;34m'loss'\u001b[0m\u001b[1;33m]\u001b[0m\u001b[1;33m\u001b[0m\u001b[0m\n\u001b[0m",
      "\u001b[1;31mTypeError\u001b[0m: 'History' object is not subscriptable"
     ]
    }
   ],
   "source": [
    "history['loss']"
   ]
  },
  {
   "cell_type": "code",
   "execution_count": 167,
   "metadata": {},
   "outputs": [
    {
     "name": "stdout",
     "output_type": "stream",
     "text": [
      "1/1 [==============================] - 0s 11ms/step\n",
      "loss (test-set): 0.0001252466900041327\n"
     ]
    }
   ],
   "source": [
    "result = model.evaluate(x=np.expand_dims(x_test_scaled, axis=0),\n",
    "                        y=np.expand_dims(y_test_scaled, axis=0))\n",
    "print(\"loss (test-set):\", result)"
   ]
  },
  {
   "cell_type": "code",
   "execution_count": 168,
   "metadata": {},
   "outputs": [],
   "source": [
    "def plot_comparison(start_idx, length=100, train=True):\n",
    "    \"\"\"\n",
    "    Plot the predicted and true output-signals.\n",
    "    \n",
    "    :param start_idx: Start-index for the time-series.\n",
    "    :param length: Sequence-length to process and plot.\n",
    "    :param train: Boolean whether to use training- or test-set.\n",
    "    \"\"\"\n",
    "    \n",
    "    if train:\n",
    "        # Use training-data.\n",
    "        x = x_train_scaled\n",
    "        y_true = y_train\n",
    "    else:\n",
    "        # Use test-data.\n",
    "        x = x_test_scaled\n",
    "        y_true = y_test\n",
    "    \n",
    "    # End-index for the sequences.\n",
    "    end_idx = start_idx + length\n",
    "    \n",
    "    # Select the sequences from the given start-index and\n",
    "    # of the given length.\n",
    "    x = x[start_idx:end_idx]\n",
    "    y_true = y_true[start_idx:end_idx]\n",
    "    \n",
    "    # Input-signals for the model.\n",
    "    x = np.expand_dims(x, axis=0)\n",
    "\n",
    "    # Use the model to predict the output-signals.\n",
    "    y_pred = model.predict(x)\n",
    "    \n",
    "    # The output of the model is between 0 and 1.\n",
    "    # Do an inverse map to get it back to the scale\n",
    "    # of the original data-set.\n",
    "    y_pred_rescaled = y_scaler.inverse_transform(y_pred[0])\n",
    "    \n",
    "    # For each output-signal.\n",
    "    for signal in range(len(target_names)):\n",
    "        # Get the output-signal predicted by the model.\n",
    "        signal_pred = y_pred_rescaled[:, signal]\n",
    "        \n",
    "        # Get the true output-signal from the data-set.\n",
    "        signal_true = y_true[:, signal]\n",
    "\n",
    "        # Make the plotting-canvas bigger.\n",
    "        plt.figure(figsize=(15,5))\n",
    "        \n",
    "        # Plot and compare the two signals.\n",
    "        plt.plot(signal_true, label='true')\n",
    "        plt.plot(signal_pred, label='pred')\n",
    "        \n",
    "        # Plot grey box for warmup-period.\n",
    "        p = plt.axvspan(0, warmup_steps, facecolor='black', alpha=0.15)\n",
    "        \n",
    "        # Plot labels etc.\n",
    "        plt.ylabel(target_names[signal])\n",
    "        plt.legend()\n",
    "        plt.show()"
   ]
  },
  {
   "cell_type": "code",
   "execution_count": 169,
   "metadata": {},
   "outputs": [],
   "source": [
    "target_names = ['Open']"
   ]
  },
  {
   "cell_type": "code",
   "execution_count": 176,
   "metadata": {},
   "outputs": [
    {
     "data": {
      "image/png": "[encoded data removed]",
      "text/plain": [
       "<Figure size 1080x360 with 1 Axes>"
      ]
     },
     "metadata": {
      "needs_background": "light"
     },
     "output_type": "display_data"
    }
   ],
   "source": [
    "plot_comparison(start_idx=10, length=20, train=True)"
   ]
  },
  {
   "cell_type": "code",
   "execution_count": null,
   "metadata": {},
   "outputs": [],
   "source": []
  }
 ],
 "metadata": {
  "kernelspec": {
   "display_name": "Python 3",
   "language": "python",
   "name": "python3"
  },
  "language_info": {
   "codemirror_mode": {
    "name": "ipython",
    "version": 3
   },
   "file_extension": ".py",
   "mimetype": "text/x-python",
   "name": "python",
   "nbconvert_exporter": "python",
   "pygments_lexer": "ipython3",
   "version": "3.6.6"
  }
 },
 "nbformat": 4,
 "nbformat_minor": 2
}
